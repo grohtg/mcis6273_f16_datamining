{
 "cells": [
  {
   "cell_type": "markdown",
   "metadata": {
    "collapsed": true
   },
   "source": [
    "# Assignment 3 / Data Mining and Machine Learning in the Real World"
   ]
  },
  {
   "cell_type": "markdown",
   "metadata": {},
   "source": [
    "__This assignment is worth up to 10 POINTS to your grade total if you do it and turn it in on time.  Late assignments will lose 15%.__\n",
    "\n",
    "\n",
    "| Points Possible | Due Date | Estimated Time Commitment |\n",
    "|:---------------:|:--------:|:-------------------------:|\n",
    "| 10 | Tuesday, 12/6 @ Midnight| 3 hours   |\n",
    "\n",
    "There are also 5 BONUS points possible in the BONUS section."
   ]
  },
  {
   "cell_type": "markdown",
   "metadata": {},
   "source": [
    "## OBJECTIVE\n",
    "* Learn about some of the things going on in the real-world with Machine Learning and Data Mining."
   ]
  },
  {
   "cell_type": "markdown",
   "metadata": {
    "collapsed": true
   },
   "source": [
    "## WHAT TO TURN IN\n",
    "\n",
    "Turn in a copy of THIS notebook (a copy) with :\n",
    "\n",
    "1. Your answers to the questions in the cells right under the question in Part 2."
   ]
  },
  {
   "cell_type": "markdown",
   "metadata": {},
   "source": [
    "# PART 1\n",
    "\n",
    "### &#167;  Listen, Watch or Read at least TWO of the content items below and take good notes!"
   ]
  },
  {
   "cell_type": "markdown",
   "metadata": {},
   "source": [
    "#### LISTEN (Podcasts)\n",
    "\n",
    "| Content              | What         |\n",
    "|:--------------------------------------:|:-------------------------------|\n",
    "|[TalkPythonPodcast Episode #81](https://talkpython.fm/episodes/show/81/python-and-machine-learning-in-astronomy)<br/> (Oct. 21, 2016)|  Python and Machine Learning in Astronomy with Jake VanderPlas |\n",
    "|[TalkPythonPodcast Episode #73](https://talkpython.fm/episodes/show/73/machine-learning-at-the-new-microsoft) <br/>(Aug. 26, 2016)|  Machine Learning at the new Microsoft with David Crook |\n",
    "|[podcast.\\_\\_init\\_\\_ Episode #71](https://www.podcastinit.com/episode-71-gensim-with-radim-rehurek/ ) <br/> (Aug. 20, 2016)| GenSim with Radim Řehůřek |\n",
    "| [podcast.\\_\\_init\\_\\_ Episode #56]([podcast.\\_\\_init\\_\\_ Episode #71]) <br/>(May 7, 2016)  | Onion IoT with Lazar and Zheng |\n",
    "|[Linear Digressions](http://lineardigressions.com/episodes/2016/9/25/the-cold-start-problem) <br/>(Sep. 25, 2016) | The Cold Start Problem |\n",
    "|[Linear Digressions](http://lineardigressions.com/episodes/2016/9/25/open-source-software-for-data-science) <br/>(Sep. 25, 2016) | Open Source Software for Data Science |\n",
    "|[Linear Digressions](http://lineardigressions.com/episodes/2016/9/11/two-cultures-machine-learning-and-statistics) <br/>(Sep. 11, 2016) | Two Cultures: Machine Learning and Statistics |\n",
    "|[Linear Digressions](http://lineardigressions.com/episodes/2016/8/20/machine-learning-for-genomics) <br/>(Aug. 20, 2016) |Machine Learning for Genomics|\n",
    "|[Linear Digressions](http://lineardigressions.com/episodes/2016/8/20/climate-modeling) <br/>(Aug. 20, 2016) |Climate Modeling|\n",
    "|[Partially Derivative Season 2, Ep. 3](http://partiallyderivative.com/news/2016/03/01/season-2-episode-3-chris-looks-at-your-search-history) | Chris Looks at Your Search History | \n",
    "|[Partially Derivative](http://partiallyderivative.com/podcast/2016/07/11/brian-granger-interview) <br/> (July 11, 2016) | Interview: Brian Granger, co-Leader of Project Jupyter | \n",
    "|[O'Reilly Data Show Podcast](https://www.oreilly.com/ideas/building-the-next-generation-big-data-analytics-stack)<br/>(November 17, 2016)  | Building the next-generation big data analytics stack with Michael Franklin | "
   ]
  },
  {
   "cell_type": "markdown",
   "metadata": {},
   "source": [
    "#### WATCH (Videos)\n",
    "| Content              | What         |\n",
    "|:--------------------------------------:|:-------------------------------|\n",
    "|[O'Reilly Data Science / Solving the right problem](https://www.oreilly.com/learning/solving-the-right-problem) | Solving the right problem with Max Sharon and Sasha Laundy @ Strata+Hadoop World / NYC / 2014 | \n",
    "|[O'Reilly Data Science / Meaningful user metrics](https://www.oreilly.com/learning/creating-meaningful-metrics-that-get-your-users-to-do-the-things-you-want) | Creating Meaningful metrics that get your users to do the things you want / July 26, 2016 | \n",
    "| Youtube Video (data mining, machine learning or data science topic) | You may find another Youtube video of your choice as long as is more than 15 minutes long and applies to a data mining, machine learning or data science topic.  YOU MUST PROVIDE THE LINK TO THE VIDEO IF YOU CHOOSE THIS OPTION. |"
   ]
  },
  {
   "cell_type": "markdown",
   "metadata": {
    "collapsed": true
   },
   "source": [
    "#### READ (Articles)\n",
    "\n",
    "| Content              | What         |\n",
    "|:--------------------------------------:|:-------------------------------|\n",
    "|[O'Reilly / Data / On Our Radar](https://www.oreilly.com/ideas/the-current-state-of-machine-intelligence-3-0) <br/> (Nov. 7, 2016)|  The current state of machine intelligence 3.0 |\n",
    "|[Data Science Weekly](https://www.datascienceweekly.org/articles/how-to-describe-your-personal-projects-on-your-data-science-resume) | How to describe your personal projects on your Data Science resume |\n",
    "|[EPJ Data Science Journal - Article Oct. 21, 2016 / Beir&#243;, et al](http://epjdatascience.springeropen.com/articles/10.1140/epjds/s13688-016-0092-2)|Predicting human mobility through the assimilation of social media traces into mobility models (Beir&#243;, et al) Oct. 21, 2016 |\n",
    "|[EPJ Data Science Journal - Article Mar. 23, 2016 / Burnap and Williams](http://epjdatascience.springeropen.com/articles/10.1140/epjds/s13688-016-0072-6)|Us and them: identifying cyber hate on Twitter across multiple protected characteristics (Burnap and Williams) Mar. 23, 2016 |\n",
    "|[The New York Times / Aug. 27, 2014](http://bits.blogs.nytimes.com/2014/08/27/looking-to-the-future-of-data-science/?_r=0) | Looking to the Future of Data Science (Steve Lohr) |\n",
    "|[UDacity Article / Nov. 7, 2014](http://blog.udacity.com/2014/11/data-science-job-skills.html)  | 8 Skills You Need to Be a Data Scientist (Dave Holtz)|\n",
    "|[AirBnB Data Nerd Blog / Oct. 1, 2015](http://nerds.airbnb.com/unboxing-the-random-forest-classifier/) |  Unboxing the Random Forest Classifier: The Threshold Distributions |\n",
    "|[Kaggle Blog / No Free Hunch / Nov. 1, 2016](http://blog.kaggle.com/2016/11/01/a-challenge-to-analyze-the-worlds-most-interesting-data-the-department-of-commerce-publishes-its-datasets-on-kaggle/) | A Challenge to Analyze the World’s Most Interesting Data: The Department of Commerce Publishes its Datasets on Kaggle |\n",
    "|[KDNuggets Article Aug. 2016](http://www.kdnuggets.com/2016/08/10-algorithms-machine-learning-engineers.html)| The 10 Algorithms Machine Learning Engineers Need to Know (James Le)|\n",
    "|[ACM SIGKDD Exploration June 2016, Volume 18, Issue 1, Article by Marco Stolpe](http://kdd.org/exploration_files/18-1-Article2.pdf) | The Internet of Things: Opportunites and Challenges for Distributed Data Analysis (Marco Stolpe) | "
   ]
  },
  {
   "cell_type": "markdown",
   "metadata": {},
   "source": [
    "# PART 2 / Reaction-Summary\n",
    "\n",
    "### &#167;  In a cell below this one, write your summary or reaction to EACH of the two items in 4 sentences OR 6 bullets (bullets don't need to be full sentences) -- 5 points EACH.\n",
    "\n",
    "**Example:**\n",
    "\n",
    "    Item #1 Name: Kaggle Blog / No Free Hunch\n",
    "\n",
    "    This article wash cries without the regional mercury. A rainbow rents the pitfall into its finest realm. Near my competent goodbye listens the unwelcome praise. A wealth dictates behind the finest fossil. \n",
    "   \n",
    "   \n",
    "    Item #2 Linear Digressions / Sep 11 / Two Cultures\n",
    "\n",
    "    Here are my reactions to this podcast:\n",
    "    \n",
    "    * Lorem ipsum dolor sit amet, consectetur elit\n",
    "    * Nulla blandit lectus ut pellentesque pharetra\n",
    "    * Sed in turpis dapibus, ullamcorper nunc quis\n",
    "    * Donec vel eros tincidunt, accumsan risus vel\n",
    "    * Etiam lobortis nunc a\n",
    "    * Nunc et libero non risus venenatis luctus"
   ]
  },
  {
   "cell_type": "markdown",
   "metadata": {},
   "source": [
    "# BONUS / Reaction-Summary\n",
    "\n",
    "### &#167;  In a cell below this one, write ONE MORE  summary or reaction to ONE MORE item that you watched, read or listened to in 4 sentences OR 6 bullets (bullets don't need to be full sentences) -- 5 points EXTRA.\n"
   ]
  }
 ],
 "metadata": {
  "anaconda-cloud": {},
  "kernelspec": {
   "display_name": "Python [default]",
   "language": "python",
   "name": "python2"
  },
  "language_info": {
   "codemirror_mode": {
    "name": "ipython",
    "version": 2
   },
   "file_extension": ".py",
   "mimetype": "text/x-python",
   "name": "python",
   "nbconvert_exporter": "python",
   "pygments_lexer": "ipython2",
   "version": "2.7.12"
  }
 },
 "nbformat": 4,
 "nbformat_minor": 0
}
