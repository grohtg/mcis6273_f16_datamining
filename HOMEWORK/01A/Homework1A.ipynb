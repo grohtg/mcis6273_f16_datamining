{
 "cells": [
  {
   "cell_type": "markdown",
   "metadata": {},
   "source": [
    "# HOMEWORK 1A / Distance Metrics (kNN-euclidean implementation)"
   ]
  },
  {
   "cell_type": "markdown",
   "metadata": {},
   "source": [
    "__This assignment is worth up to 5 POINTS to your grade total.  It will be averaged with the score of your HW1 / Part 2.__\n",
    "\n",
    "| Points Possible | Due Date |\n",
    "|:---------------:|:--------:|\n",
    "| 5 | -- |"
   ]
  },
  {
   "cell_type": "markdown",
   "metadata": {},
   "source": [
    "## OBJECTIVE\n",
    "\n",
    "* Implement $k$-Nearest Neighbors and see a distance metric in action on real data."
   ]
  },
  {
   "cell_type": "markdown",
   "metadata": {},
   "source": [
    "## WHAT TO TURN IN\n",
    "\n",
    "You are being encouraged to turn the assignment in using the provided Jupyter Notebook.  To do so, clone the repository and modify the `Homework1A.ipynb` file in the `HOMEWORK/01A` directory.\n",
    "\n",
    "Turn in a copy of a ipynb file OR a PDF or Word Document to Blackboard with the answers to the questions labeled with the &#167; sign."
   ]
  },
  {
   "cell_type": "markdown",
   "metadata": {},
   "source": [
    "## RESOURCES\n",
    "\n",
    "* You can get a little more information on indexing in [this tutorial](../../Tutorials/df_indexing_pt1.ipynb).\n",
    "* I have put together a video on how to use indexing methods `loc` and `iloc` can be found below and [here](https://youtu.be/OHBY0b9bXGM)."
   ]
  },
  {
   "cell_type": "code",
   "execution_count": 12,
   "metadata": {
    "collapsed": false
   },
   "outputs": [
    {
     "data": {
      "text/html": [
       "<iframe width=\"560\" height=\"315\" src=\"https://www.youtube.com/embed/OHBY0b9bXGM\" frameborder=\"0\" allowfullscreen></iframe>"
      ],
      "text/plain": [
       "<IPython.core.display.HTML object>"
      ]
     },
     "metadata": {},
     "output_type": "display_data"
    }
   ],
   "source": [
    "%%HTML\n",
    "<iframe width=\"560\" height=\"315\" src=\"https://www.youtube.com/embed/OHBY0b9bXGM\" frameborder=\"0\" allowfullscreen></iframe>"
   ]
  },
  {
   "cell_type": "markdown",
   "metadata": {},
   "source": [
    "## PART 2 / Distance metrics and _k_-Nearest Neighbor\n",
    "\n",
    "### &#167; Implement the _k_-Nearest Neighbor algorithm in Python using the Euclidean distance metric.\n",
    "\n",
    "The _k_-Nearest Neighbor algorithm is a very simple _lazy learning_ algorithm.  It computes $k$ neigbors given a data point $d_i$ (vector) from the set of all data $D = \\{d_1, d_2, \\ldots, d_i, \\ldots, d_n\\}$.\n",
    "\n",
    "\n",
    "#### 1. Implement the function `d_euclidean(v1, v2)` that takes 2 arguments v1 and v2 which are the vectors you will be comparing from your dataset.\n",
    "\n",
    "You will be turning in the implementation of two functions.  The first is the Euclidean distance function, which is trivial to implement.  Recall Euclidean distance $d_{\\mathrm{euclidean}}$ is defined by, given two vectors $v_1$ and $v_2$ of length $n$ :\n",
    "\n",
    "$$\n",
    "d_{\\mathrm{euclidean}} = \\sqrt{ {\\sum_{i=1}^n \\big({v_1}_i - {v_2}_i\\big)}^2 }\n",
    "$$\n",
    "\n",
    "You are free to use the implementation in [the notes](../../Lectures/03/e_distance_metrics.ipynb), but please make sure you actually cite it appropriately if you copy it verbatim!\n",
    "\n",
    "#### 2. Implement the function `knn_euclidean(k, v, d)`that takes two arguments, the number of neighbors to return _k_, the data vector _v_ and the entire dataset _d_.\n",
    "\n",
    "The algorithm will do the following:\n",
    "1. compute the distance between $v$ and all vectors in $d$ (with $v$ removed, if you like, but the distance between $v$ and itself will be ... 0!).  You will use the function from part 1 `d_euclidean`.\n",
    "2. sort the distances of all vectors in ascending order with the closest (lowest) distances first.\n",
    "3. return the _k_ top neighbors\n",
    "\n",
    "#### What you will turn in:\n",
    "\n",
    "* Turn in the code for the two functions implemented in Python.\n",
    "* Use the templates below :\n",
    "\n",
    "```python\n",
    "\n",
    "# assume v1 and v2 are python tuples\n",
    "def d_euclidean(v1, v2):\n",
    "    return # the calculation of the euclidean distance\n",
    "\n",
    "\n",
    "# implement the knn algorithm as defined above\n",
    "def knn_euclidean(k, v, all_v):\n",
    "\n",
    "    # compute all the distances between v and d_v in all_v\n",
    "    for d_v in all_v:\n",
    "        d_euclidean(d_v, v)\n",
    "\n",
    "    '''\n",
    "        1. store the distances\n",
    "        2. sort all distances in ascending order \n",
    "    '''\n",
    "    \n",
    "    return # the top k of the sorted items\n",
    "    \n",
    "```"
   ]
  },
  {
   "cell_type": "markdown",
   "metadata": {},
   "source": [
    "### &#167; Produce the distance table using your version of _k_-NN for all properties.  \n",
    "\n",
    "* Your distance table will be a Dataframe -- do not overcomplicate this part with any other data structure.\n",
    "*  To make things easier, please reduce the data vector to just **beds, bath, square footage, price, latitude and longitude**.\n",
    "* You can use the street as the index.  Your final output will look something like this:\n",
    "\n",
    "\n",
    "<div class=\"tg-wrap\"><table>\n",
    "  <tr>\n",
    "    <td></td>\n",
    "    <td>3526 HIGH ST</td>\n",
    "    <td>51 OMAHA CT</td>\n",
    "    <td>C2796 BRANCH ST</td>\n",
    "    <td>D2805 JANETTE WAY</td>\n",
    "  </tr>\n",
    "  <tr>\n",
    "    <td>3526 HIGH ST</td>\n",
    "    <td>0</td>\n",
    "    <td></td>\n",
    "    <td></td>\n",
    "    <td></td>\n",
    "  </tr>\n",
    "  <tr>\n",
    "    <td>51 OMAHA CT</td>\n",
    "    <td>0.25<br></td>\n",
    "    <td>0</td>\n",
    "    <td></td>\n",
    "    <td></td>\n",
    "  </tr>\n",
    "  <tr>\n",
    "    <td>2796 BRANCH ST</td>\n",
    "    <td>0.25</td>\n",
    "    <td>0.25</td>\n",
    "    <td>0</td>\n",
    "    <td></td>\n",
    "  </tr>\n",
    "  <tr>\n",
    "    <td>2805 JANETTE WAY</td>\n",
    "    <td>0.25</td>\n",
    "    <td>0.25</td>\n",
    "    <td>0.25</td>\n",
    "    <td>0</td>\n",
    "  </tr>\n",
    "</table></div>\n",
    "\n",
    "### An easy way to set up the data frame is to get all the property names and use them as the _row_ and _column_ indices.  Please see [../../Tutorials/df_indexing_pt1.ipynb](../../Tutorials/df_indexing_pt1.ipynb) for an introduction to how best achieve this."
   ]
  },
  {
   "cell_type": "markdown",
   "metadata": {},
   "source": [
    "### &#167; Compute the 4-NN and 5-NN to the following properties:\n",
    "\n",
    "- 4882 BANDALIN WAY\n",
    "- 7511 OAKVALE CT\n",
    "* 7731 MASTERS ST\n",
    "* 4925 PERCHERON DR\n",
    "* 4727 SAVOIE WAY\n",
    "* 3228 BAGGAN CT\n",
    "* 8515 DARTFORD DR\n",
    "* 2460 EL ROCCO WAY\n",
    "* 5840 WALERGA RD\n",
    "* 923 FULTON AVE\n",
    "* 4030 BROADWAY\n",
    "* 6485 LAGUNA MIRAGE LN\n",
    "* 8758 LEMAS RD\n",
    "* 1140 EDMONTON DR\n",
    "* 1890 GENEVA PL\n",
    "\n",
    "Turn in the table that has each property address and the addresses of the 4-NN and 5-NN properties.\n",
    "\n",
    "**To get you started, you can use the code below:**"
   ]
  },
  {
   "cell_type": "code",
   "execution_count": 9,
   "metadata": {
    "collapsed": true
   },
   "outputs": [],
   "source": [
    "test_properties = [\n",
    "    \"4882 BANDALIN WAY\",\n",
    "    \"7511 OAKVALE CT\",\n",
    "    \"7731 MASTERS ST\",\n",
    "    \"4925 PERCHERON DR\",\n",
    "    \"4727 SAVOIE WAY\",\n",
    "    \"3228 BAGGAN CT\",\n",
    "    \"8515 DARTFORD DR\",\n",
    "    \"2460 EL ROCCO WAY\",\n",
    "    \"5840 WALERGA RD\",\n",
    "    \"923 FULTON AVE\",\n",
    "    \"4030 BROADWAY\",\n",
    "    \"6485 LAGUNA MIRAGE LN\",\n",
    "    \"8758 LEMAS RD\",\n",
    "    \"1140 EDMONTON DR\",\n",
    "    \"1890 GENEVA PL\"\n",
    "]"
   ]
  },
  {
   "cell_type": "code",
   "execution_count": 10,
   "metadata": {
    "collapsed": true
   },
   "outputs": [],
   "source": [
    "K = 4\n",
    "for p in test_properties:\n",
    "    pass\n",
    "    # get the 4-nearest neighbors each property\n",
    "    \n",
    "    # print those properties\n",
    "    "
   ]
  },
  {
   "cell_type": "code",
   "execution_count": 11,
   "metadata": {
    "collapsed": true
   },
   "outputs": [],
   "source": [
    "K = 5\n",
    "for p in test_properties:\n",
    "    pass\n",
    "    # get the 4-nearest neighbors each property\n",
    "    \n",
    "    # print those properties"
   ]
  }
 ],
 "metadata": {
  "kernelspec": {
   "display_name": "Python [Root]",
   "language": "python",
   "name": "Python [Root]"
  },
  "language_info": {
   "codemirror_mode": {
    "name": "ipython",
    "version": 2
   },
   "file_extension": ".py",
   "mimetype": "text/x-python",
   "name": "python",
   "nbconvert_exporter": "python",
   "pygments_lexer": "ipython2",
   "version": "2.7.12"
  }
 },
 "nbformat": 4,
 "nbformat_minor": 0
}
