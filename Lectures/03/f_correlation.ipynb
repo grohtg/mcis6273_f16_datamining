{
 "cells": [
  {
   "cell_type": "markdown",
   "metadata": {},
   "source": [
    "## LINEAR CORRELATION\n",
    "\n",
    "The _correlation_ between two or more random variables is a measure of their dependence on one another.  For example, a random variable $x$ is associated with  another random variable $y$, if when one variable changes, there is a dependence or the change in the other.\n",
    "\n",
    "We'll mostly be dealing with linear correlation, yet there are many statistical correlations that are not linear."
   ]
  },
  {
   "cell_type": "markdown",
   "metadata": {},
   "source": [
    "### PRELIMINARIES\n",
    "\n",
    "Before we begin to explore the one of the most widely known and used correlation measures, we'll review our [statistical notions](./xxx_statistical_notions.ipynb). We recall mean ($\\mu_X$), variance ($var_X$) and standard deviation ($\\sigma_X$) for a variable and given data sample $X=\\{x_1, x_2, \\ldots, x_n\\}$, with a population size $n$,\n",
    "\n",
    "$$\\mu_X = { {1 \\over n} { \\sum_{i=1}^n x_i }  }, $$\n",
    "\n",
    "$$var_X = { {1 \\over n} {\\sum_{i=1}^n (x_i - \\mu_X)^2} }, $$\n",
    "\n",
    "$$\\sigma_X = \\sqrt {var_X}. $$\n",
    "\n",
    "We are now equipped to look at the covariance $cov_{XY}$ between $X$ and another sample $Y = \\{ y_1, y_2, \\ldots, y_n \\}$, which is just the sum of the product of differences between each population and their means.\n",
    "\n",
    "$$cov_{XY} = { {1 \\over n } {\\sum_{i=1}^n (x_i - \\mu_X)(y_i - \\mu_Y)} }. $$\n",
    "\n"
   ]
  },
  {
   "cell_type": "markdown",
   "metadata": {},
   "source": [
    "### CORRELATION (PEARSON'S CORRELATION, PEARSONS PRODUCT-MOMENT CORRELATION or PEARSON'S $r$)\n",
    "\n",
    "Pearson's correlation is defined here as  \n",
    "\n",
    "$$\\rho_{XY} = { cov_{XY} \\over { \\sigma_X } { \\sigma_Y } }. $$\n",
    "\n",
    "You may also see this denoted as simply $r$.\n",
    "\n",
    "### INTERPRETATION\n",
    "The interpretation of Pearson's correlation is such that $-1 \\le \\rho_{XY} \\le 1$. If $\\rho_{XY} = 0$ then there is _no correlation_ between populations $X$ and $Y$. If $\\rho_{XY} = 1$, then $X$ and $Y$ are have a _strong positive correlation_, that is when $X$ increases $Y$ increases.  If $\\rho_{XY} = -1$ then there is a _strong negative correlation_ between $X$ and $Y$, that is when $Y$ decreases, $X$ increases.\n",
    "\n",
    "**NOTE:** Though there may be a strong correlation between two variables, such correlation **DOES NOT IMPLY CAUSATION**. Demonstrating causation requires experimental burden of proof and rigor, typically through repeated _empirical experimentation_, _confirmation_ and _replication_."
   ]
  },
  {
   "cell_type": "markdown",
   "metadata": {},
   "source": [
    "### EXAMPLES"
   ]
  },
  {
   "cell_type": "code",
   "execution_count": 58,
   "metadata": {
    "collapsed": true
   },
   "outputs": [],
   "source": [
    "%matplotlib inline\n",
    "from scipy.stats import pearsonr\n",
    "import numpy as np\n",
    "import pandas as pd"
   ]
  },
  {
   "cell_type": "markdown",
   "metadata": {},
   "source": [
    "#### IS THERE A PATTERN IN THIS DATA?"
   ]
  },
  {
   "cell_type": "code",
   "execution_count": 56,
   "metadata": {
    "collapsed": false
   },
   "outputs": [
    {
     "name": "stdout",
     "output_type": "stream",
     "text": [
      "0.35946688233\n"
     ]
    },
    {
     "data": {
      "image/png": "[encoded data removed]",
      "text/plain": [
       "<matplotlib.figure.Figure at 0xd834f28>"
      ]
     },
     "metadata": {},
     "output_type": "display_data"
    }
   ],
   "source": [
    "X = np.random.randint(1, high=100, size=(25,2))\n",
    "df = pd.DataFrame(X, columns=[\"x\",\"y\"])\n",
    "\n",
    "r, _ = pearsonr(df.x, df.y)\n",
    "df.plot.scatter(x=\"x\", y=\"y\")\n",
    "print r"
   ]
  },
  {
   "cell_type": "markdown",
   "metadata": {},
   "source": [
    "#### WHAT ABOUT THIS DATA?"
   ]
  },
  {
   "cell_type": "code",
   "execution_count": 57,
   "metadata": {
    "collapsed": true
   },
   "outputs": [],
   "source": [
    "df_bank = pd.read_csv('bank-data.csv')"
   ]
  },
  {
   "cell_type": "code",
   "execution_count": 62,
   "metadata": {
    "collapsed": false
   },
   "outputs": [
    {
     "data": {
      "text/plain": [
       "0.75272616062786002"
      ]
     },
     "execution_count": 62,
     "metadata": {},
     "output_type": "execute_result"
    }
   ],
   "source": [
    "r, _ = pearsonr(df_bank.age, df_bank.income)\n",
    "r"
   ]
  },
  {
   "cell_type": "code",
   "execution_count": 61,
   "metadata": {
    "collapsed": false
   },
   "outputs": [
    {
     "data": {
      "text/plain": [
       "<matplotlib.axes._subplots.AxesSubplot at 0xda97240>"
      ]
     },
     "execution_count": 61,
     "metadata": {},
     "output_type": "execute_result"
    },
    {
     "data": {
      "image/png": "[encoded data removed]",
      "text/plain": [
       "<matplotlib.figure.Figure at 0xd24ac18>"
      ]
     },
     "metadata": {},
     "output_type": "display_data"
    }
   ],
   "source": [
    "df_bank.plot.scatter(x=\"age\", y=\"income\")"
   ]
  }
 ],
 "metadata": {
  "anaconda-cloud": {},
  "kernelspec": {
   "display_name": "Python [Root]",
   "language": "python",
   "name": "Python [Root]"
  },
  "language_info": {
   "codemirror_mode": {
    "name": "ipython",
    "version": 2
   },
   "file_extension": ".py",
   "mimetype": "text/x-python",
   "name": "python",
   "nbconvert_exporter": "python",
   "pygments_lexer": "ipython2",
   "version": "2.7.12"
  }
 },
 "nbformat": 4,
 "nbformat_minor": 0
}
