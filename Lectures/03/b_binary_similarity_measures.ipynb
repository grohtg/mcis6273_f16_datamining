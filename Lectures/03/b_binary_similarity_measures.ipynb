{
 "cells": [
  {
   "cell_type": "markdown",
   "metadata": {},
   "source": [
    "# Binary Data / Measures of Similarity and Dissimilarity"
   ]
  },
  {
   "cell_type": "markdown",
   "metadata": {},
   "source": [
    "## Binary data\n",
    "\n",
    "In this section we'll consider binary data -- that is data where the attributes take on the values True or False, or 1 and 0, respectively.\n",
    "\n",
    "If we consider comparing two objects $A$ and $B$, with $n$ binary attributes, we only have four cases to consider, enumerated in the _contingency table_ $M$ below:"
   ]
  },
  {
   "cell_type": "markdown",
   "metadata": {},
   "source": [
    "<table>\n",
    "  <tr>\n",
    "    <td colspan=2/>\n",
    "    <th colspan=2 style=\"text-align:center\">A</th>\n",
    "  </tr>\n",
    "    <td colspan=2></td>\n",
    "    <td style=\"text-align:center\">True<br></td>\n",
    "    <td style=\"text-align:center\">False<br></td>\n",
    "  </tr>\n",
    "  <tr>\n",
    "    <td rowspan=2><b>B</b></td>\n",
    "    <td>True</td>\n",
    "    <td>M11 = # attributes True<br>in both A and B<br></td>\n",
    "    <td>M01 = # attributes where <br>A is False and <br>B is True<br></td>\n",
    "  </tr>\n",
    "  <tr>\n",
    "    <td>False</td>\n",
    "    <td>M10 = # attributes where<br>A is True and<br>B is False<br></td>\n",
    "    <td>M00 = # attributes False <br>in both A and B<br></td>\n",
    "  </tr>\n",
    "</table>"
   ]
  },
  {
   "cell_type": "markdown",
   "metadata": {},
   "source": [
    "## Similarity in binary data - JACCARD COEFFICIENT\n",
    "\n",
    "\n",
    "Say we want to produce the ratio of how similar two objects $A$ and $B$ are considering their binary attributes $\\{f_1, f_2, \\ldots, f_n\\}$. A typical method for doing this is called the **Jaccard coefficient**.  ${Jaccard}(A, B)$ is the ratio of common features of $A$ and $B$, such that the larger the coefficient, the more in similar $A$ and $B$ are:\n",
    "\n",
    "$${Jaccard}(A, B) = {{M_{11}} \\over {M_{10} + M_{01} + M_{11}}}$$ \n"
   ]
  },
  {
   "cell_type": "markdown",
   "metadata": {},
   "source": [
    "Note also, $ 0 \\leq Jaccard(A,B) \\leq 1 $."
   ]
  },
  {
   "cell_type": "markdown",
   "metadata": {},
   "source": [
    "## Dissimilarity in binary data"
   ]
  },
  {
   "cell_type": "markdown",
   "metadata": {},
   "source": [
    "Two binary objects are more similar if the number of things they have in common are large, then they **are dissimilar if they have few things in common**."
   ]
  },
  {
   "cell_type": "markdown",
   "metadata": {},
   "source": [
    "Formally, let $\\hat{d}$, the _disimilarity ratio_ (or distance) between $A$ and $B$ be\n",
    "\n",
    "$$ \\hat{d}(A, B) = { {M_{10} + M_{01}} \\over {M_{10} + M_{01} +  M_{11}} }$$\n",
    "\n",
    "where $M_{01}$, $M_{10}$ and $M_{11}$ are defined as above.  Note also, $0 \\leq \\hat{d}(A, B) \\leq 1.$"
   ]
  },
  {
   "cell_type": "markdown",
   "metadata": {},
   "source": [
    "### Example\n",
    "Now let's look at a real example.  Let $A$ and $B$ have 6 binary attributes each:\n",
    "\n",
    "| | Red | Small | Round | Heavy | Shiny | Fragrant |\n",
    "|-|:---:|:-----:|:-----:|:-----:|:-----:|:--------:|\n",
    "|A| True|False  |True   |False  |True   |False     |\n",
    "|B| True|True  |False   |False  |False  |False     |"
   ]
  },
  {
   "cell_type": "markdown",
   "metadata": {},
   "source": [
    "Our contigency table is:\n",
    "\n",
    "<table>\n",
    "  <tr>\n",
    "      <td rowspan=2 colspan=2/>\n",
    "  </tr>\n",
    "  <tr>\n",
    "    <td colspan=2 style=\"text-align:center\">A</td>\n",
    "  </tr>\n",
    "  <tr>\n",
    "    <td colspan=2></td>\n",
    "    <td>True<br></td>\n",
    "    <td>False<br></td>\n",
    "  </tr>\n",
    "  <tr>\n",
    "    <td rowspan=\"3\">B</td>\n",
    "    <td>True</td>\n",
    "    <td>1<br></td>\n",
    "    <td>1<br></td>\n",
    "  </tr>\n",
    "  <tr>\n",
    "    <td>False</td>\n",
    "    <td>2<br></td>\n",
    "    <td>2<br></td>\n",
    "  </tr>\n",
    "</table>"
   ]
  },
  {
   "cell_type": "markdown",
   "metadata": {},
   "source": [
    "The Jaccard similarity is :  $ {1 \\over  {1 + 1 + 2}} = 0.25 $ the dissimilarity is $ { {2+1} \\over {2+1+2} } = {3 \\over 5} = .60$.  Which is telling us these two objects are less similar or more dissimilar."
   ]
  },
  {
   "cell_type": "code",
   "execution_count": 1,
   "metadata": {
    "collapsed": false
   },
   "outputs": [
    {
     "name": "stdout",
     "output_type": "stream",
     "text": [
      "*1.0\n",
      "[1, 1, 1, 0, 0, 1, 1, 0, 1, 0]\n",
      "[1, 1, 1, 0, 0, 1, 1, 0, 1, 0]\n",
      "--\n",
      "*0.833333333333\n",
      "[0, 0, 1, 1, 0, 1, 0, 1, 1, 0]\n",
      "[0, 1, 1, 1, 0, 1, 0, 1, 1, 0]\n",
      "--\n",
      "*0.75\n",
      "[0, 0, 0, 1, 0, 1, 0, 0, 1, 0]\n",
      "[0, 0, 0, 1, 0, 1, 0, 1, 1, 0]\n",
      "--\n"
     ]
    }
   ],
   "source": [
    "import random\n",
    "\n",
    "# naive implementation of Jaccard\n",
    "def jaccard(V_1, V_2):\n",
    "    # check V_1 V_2 binary\n",
    "    v_01, v_10, v_11, v_00 = 0, 0, 0, 0\n",
    "    \n",
    "    for v1, v2 in zip(V_1, V_2):\n",
    "        if v1 not in [0,1] and v2 not in [0,1]:\n",
    "            raise TypeError\n",
    "        if v1 == 0:\n",
    "            if v2 == 0 : v_00 += 1\n",
    "            if v2 == 1 : v_01 += 1\n",
    "        if v1 == 1:\n",
    "            if v2 == 0 : v_10 += 1\n",
    "            if v2 == 1 : v_11 += 1\n",
    "    return 1.*v_11 / (v_01+v_10+v_11) \n",
    "\n",
    "\n",
    "for i in xrange(100):\n",
    "    v1 = [random.randint(0,1) for v in xrange(10)]\n",
    "    v2 = [random.randint(0,1) for v in xrange(10)]\n",
    "    \n",
    "    # for fun: just print those random vectors that are really similar \n",
    "    j_sim = jaccard(v1, v2) \n",
    "    if j_sim > 0.70:\n",
    "        print \"*{}\\n{}\\n{}\\n--\".format(j_sim, v1, v2)"
   ]
  },
  {
   "cell_type": "markdown",
   "metadata": {
    "collapsed": true
   },
   "source": [
    "### RESOURCES\n",
    "There is a rather large list of similarity measures listed [here](http://www.ibm.com/support/knowledgecenter/SSLVMB_21.0.0/com.ibm.spss.statistics.help/cmd_proximities_dissim_measure_binary.htm) for more information on similarity and dissimilarity discussed in further detail.\n"
   ]
  }
 ],
 "metadata": {
  "anaconda-cloud": {},
  "kernelspec": {
   "display_name": "Python [Root]",
   "language": "python",
   "name": "Python [Root]"
  },
  "language_info": {
   "codemirror_mode": {
    "name": "ipython",
    "version": 2
   },
   "file_extension": ".py",
   "mimetype": "text/x-python",
   "name": "python",
   "nbconvert_exporter": "python",
   "pygments_lexer": "ipython2",
   "version": "2.7.12"
  }
 },
 "nbformat": 4,
 "nbformat_minor": 0
}
