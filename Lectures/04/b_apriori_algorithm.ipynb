{
 "cells": [
  {
   "cell_type": "markdown",
   "metadata": {},
   "source": [
    "# A Priori Algorithm for Frequent Pattern Mining"
   ]
  },
  {
   "cell_type": "markdown",
   "metadata": {},
   "source": [
    "## PRELIMINARIES\n",
    "\n",
    "### TRANSACTIONS\n",
    "Consider a set of transactions $T$ over items $I = \\{ i_1, i_2, \\ldots, i_m \\}$.  A _transaction set_ or _itemset_ $X \\in T$ satisfies $X \\subset I$. That is $X$ is composed of a subset of items in $I$.\n",
    "\n",
    "### ASSOCIATION RULE\n",
    "Consider two itemsets $X$ and $Y$, disjoint subsets of $I$ &mdash; that is two transaction sets that do not share any transactions in common. Formally, $X \\subset I$ and $Y \\subset I$, where $X \\cap Y  = \\emptyset$.\n",
    "\n",
    "An **association rule** is then of the form \n",
    "\n",
    "$$X \\Rightarrow Y$$\n",
    "\n",
    "that is the set of items in $X$ imply the set of items in $Y$."
   ]
  },
  {
   "cell_type": "markdown",
   "metadata": {},
   "source": [
    "### SUPPORT\n",
    "_Support_ for an association rule is defined then as the number of transactions in $T$ such that $X \\cup Y \\cup D \\neq \\emptyset$. That is,\n",
    "\n",
    "$$\n",
    "\\mathrm{supp}(X \\implies Y) = { { \\lvert \\forall t \\in T \\mid t \\cup X \\cup Y \\neq \\emptyset \\rvert } \\over { \\lvert T \\rvert } }\n",
    "$$\n",
    "\n",
    "or equivalently \n",
    "$$\n",
    "\\mathrm{supp}(X \\implies Y) = Pr(X, Y).\n",
    "$$\n",
    "\n",
    "We say _support_ is the percent of all transactions in $T$ that contain $X$ and $Y$.  We can also use support to determine the support for an itemset such that $\\mathrm{supp}(X)$ is the proportion of transcations in $T$ that contain $X$. "
   ]
  },
  {
   "cell_type": "markdown",
   "metadata": {},
   "source": [
    "### CONFIDENCE\n",
    "_Confidence_ for an association rule is defined as the number of transactions in $T$ such that \n",
    "\n",
    "$$\n",
    "\\mathrm{conf}(X \\implies Y) = {\n",
    "{\n",
    "{ { \\lvert \\forall t \\in T \\mid t \\cup X \\cup Y \\neq \\emptyset \\rvert } }\n",
    "}\n",
    "\\over {  { \\lvert \\forall t \\in T \\mid t \\cup X \\neq \\emptyset \\rvert }   } \n",
    "}\n",
    "$$\n",
    "\n",
    "or equivalently \n",
    "\n",
    "$$\n",
    "\\mathrm{conf}(X \\implies Y) = \\mathrm{Pr}(Y|X).\n",
    "$$\n",
    "\n",
    "We say _confidence_ is the percent of transactions that contain $X$, which also contain $Y$."
   ]
  },
  {
   "cell_type": "markdown",
   "metadata": {},
   "source": [
    "### LIFT\n",
    "\n",
    "Lift is defined as the ratio of the support of a rule to the support of each part of the rule.  That is,\n",
    "\n",
    "$$ \\mathrm{lift}( X \\implies Y )  = { \n",
    "{ \\mathrm{supp}(X \\cup Y) }  \\over { \\mathrm{supp}(X) \\times \\mathrm{supp}(Y) } \n",
    "}\n",
    "$$ \n",
    "\n",
    "If the lift is $\\leq 1$ then this implies that $X$ and $Y$ are independent and should therefore not be considered good rules, as by definition rules should be dependent."
   ]
  },
  {
   "cell_type": "markdown",
   "metadata": {},
   "source": [
    "### CONVICTION\n",
    "$$\n",
    "\\mathrm{conv}(X \\implies Y) = { {1 - \\mathrm{supp}(Y)} \\over {1 - \\mathrm{conf}(X \\implies Y)} } $$"
   ]
  },
  {
   "cell_type": "markdown",
   "metadata": {},
   "source": [
    "## Building an association rule with minimum support and and confidence \n",
    "\n",
    "Thus, the goal of our association rule is to find rules that meet a _minimum_ level of support and also a _minimum_ level of confidence.  That is, a rule is kept only if these minimum levels are met.  Formally, let $0 \\leq sup_{min} \\leq 1$ be the minimum support and $0 \\leq conf_{min} \\leq 1$ be the set for a rule, then a rule is kept iff\n",
    "\n",
    "$$  sup(X \\implies Y) \\geq sup_{min} $$\n",
    "\n",
    "and\n",
    "\n",
    "$$ conf(X \\implies Y) \\geq conf_{min} $$"
   ]
  },
  {
   "cell_type": "markdown",
   "metadata": {},
   "source": [
    "## APRIORI ALGORITHM SKETCH\n",
    "\n",
    "**TWO STEPS** \n",
    "1. Find all itemsets that have minimum support (i.e. frequent itemsets).\n",
    "2. Use these frequent itemsets to generate rules. \n",
    "\n",
    "**NOTE: A frequent itemset must reach the minimum support threshold.**\n",
    "\n",
    "Let's explore the main intuiton behind why the algorithm works.  First, we will exploit the _a priori_ property, which states, \n",
    "\n",
    "> _any subsets of a frequent itemset are also themselves frequent itemsets_.\n",
    "\n",
    "\n",
    "\tC1  init-pass(T);  \t\t\n",
    "\tF1  {f | f  C1, f.count/n  minsup};    // n: no. of transactions in T\n",
    "\tfor (k = 2; Fk-1  ; k++) do\t\t\n",
    "\t\tCk  candidate-gen(Fk-1);\n",
    "\t\tfor each transaction t  T do\t\n",
    "\t\t    for each candidate c  Ck do  \t\n",
    "\t\t\tif c is contained in t then\t\t\t\n",
    "\t\t\t   c.count++; \n",
    "\t\t    end\t\n",
    "\t\tend\t\n",
    "\t       Fk  {c  Ck | c.count/n  minsup}\t\n",
    "\tend\t\n",
    "return F  k Fk;\n"
   ]
  },
  {
   "cell_type": "markdown",
   "metadata": {},
   "source": [
    "# Implementation\n",
    "\n",
    "Let's begin with a basic implementation of  `support` and `confidence`."
   ]
  },
  {
   "cell_type": "code",
   "execution_count": 167,
   "metadata": {
    "collapsed": false
   },
   "outputs": [],
   "source": [
    "def support(rule_lhs, rule_rhs, transactions):\n",
    "    transaction_count = len(transactions)\n",
    "    rule_match_count = 0\n",
    "    rule = set(rule_lhs).union(rule_rhs)\n",
    "    \n",
    "    for tid, v in transactions.iteritems():\n",
    "        if rule.issubset(set(v)):\n",
    "            rule_match_count += 1\n",
    "    \n",
    "    return (1.0)*rule_match_count / transaction_count\n",
    "\n",
    "def confidence(rule_lhs, rule_rhs, transactions):\n",
    "    rule = set(rule_lhs).union(rule_rhs)\n",
    "    \n",
    "    # let's get the transaction count that include rule_lhs\n",
    "    rule_lhs_transactions = dict()\n",
    "    for tid, v in transactions.iteritems():\n",
    "        if set(rule_lhs).issubset(v):            \n",
    "            rule_lhs_transactions[tid] = v\n",
    "    \n",
    "    if rule_lhs_transactions:\n",
    "        # now let's get rule_lhs_transactions that have the rule\n",
    "        rule_match_count = 0\n",
    "        for tid, v in rule_lhs_transactions.iteritems():\n",
    "            if rule.issubset(v):            \n",
    "                rule_match_count += 1\n",
    "\n",
    "        return (1.0)*rule_match_count / len(rule_lhs_transactions) \n",
    "    else:\n",
    "        return 0.0"
   ]
  },
  {
   "cell_type": "markdown",
   "metadata": {},
   "source": [
    "Now let's test the implementation on some sample data."
   ]
  },
  {
   "cell_type": "code",
   "execution_count": 1,
   "metadata": {
    "collapsed": false
   },
   "outputs": [],
   "source": [
    "transactions = dict(\n",
    "    t001=('beef', 'chicken', 'milk'), \n",
    "    t002=('beef', 'cheese'),\n",
    "    t003=('cheese', 'boots'),\n",
    "    t004=('beef', 'chicken', 'cheese'),\n",
    "    t005=('beef', 'chicken', 'clothes', 'cheese', 'milk'),\n",
    "    t006=('chicken', 'clothes', 'milk'),\n",
    "    t007=('chicken', 'milk', 'clothes')\n",
    ")"
   ]
  },
  {
   "cell_type": "markdown",
   "metadata": {},
   "source": [
    "We should find that the support for `{chicken, clothes}` $\\implies$ `{milk}` should be ${3 \\over 7} = 0.42857$."
   ]
  },
  {
   "cell_type": "code",
   "execution_count": 166,
   "metadata": {
    "collapsed": false
   },
   "outputs": [
    {
     "name": "stdout",
     "output_type": "stream",
     "text": [
      "0.428571428571\n",
      "1.0\n"
     ]
    }
   ],
   "source": [
    "print support(['clothes', 'chicken'], ['milk'], transactions)\n",
    "print confidence(['clothes', 'chicken'], ['milk'], transactions)"
   ]
  },
  {
   "cell_type": "code",
   "execution_count": 42,
   "metadata": {
    "collapsed": false
   },
   "outputs": [],
   "source": [
    "# Algorithm Apriori(T)\t\n",
    "# \tC1  init-pass(T);  \t\t\n",
    "# \tF1  {f | f  C1, f.count/n  minsup};    // n: no. of transactions in T\n",
    "# \tfor (k = 2; Fk-1  ; k++) do\t\t\n",
    "# \t\tCk  candidate-gen(Fk-1);\n",
    "# \t\tfor each transaction t  T do\t\n",
    "# \t\t    for each candidate c  Ck do  \t\n",
    "# \t\t\tif c is contained in t then\t\t\t\n",
    "# \t\t\t   c.count++; \n",
    "# \t\t    end\t\n",
    "# \t\tend\t\n",
    "# \t       Fk  {c  Ck | c.count/n  minsup}\t\n",
    "# \tend\t\n",
    "# return F  k Fk;\n",
    "from collections import Counter\n",
    "\n",
    "def apriori(T, min_sup=0.5):\n",
    "    c_init = candidate_init(T)\n",
    "    f_init = []\n",
    "    \n",
    "    for c, c_count in c_init.iteritems():\n",
    "        if c_count / (1.* len(T)) >= min_sup:\n",
    "            f_init.append([c])\n",
    "    \n",
    "    f_prior, f_k, k = f_init, [], 2\n",
    "    while True:\n",
    "        print f_prior\n",
    "        candidate_k = candidate_gen(f_prior)\n",
    "        for t in T:\n",
    "            for c in candidate_k:\n",
    "                print set(c), candidate_k\n",
    "                if set(c).intersection(set(candidate_k)) == set(c):\n",
    "                    print 'got it'\n",
    "        break\n",
    "    \n",
    "    return f_init\n",
    "    \n",
    "def candidate_init(T):\n",
    "    F_init = Counter()\n",
    "    for t in T:\n",
    "        F_init.update(t)\n",
    "    return F_init\n",
    "\n",
    "def candidate_gen(f):\n",
    "    return f"
   ]
  },
  {
   "cell_type": "code",
   "execution_count": 43,
   "metadata": {
    "collapsed": false
   },
   "outputs": [
    {
     "name": "stdout",
     "output_type": "stream",
     "text": [
      "[[1], [2], [3]]\n",
      "set([1]) [[1], [2], [3]]\n"
     ]
    },
    {
     "ename": "TypeError",
     "evalue": "unhashable type: 'list'",
     "output_type": "error",
     "traceback": [
      "\u001b[1;31m---------------------------------------------------------------------------\u001b[0m",
      "\u001b[1;31mTypeError\u001b[0m                                 Traceback (most recent call last)",
      "\u001b[1;32m<ipython-input-43-bde733987b5b>\u001b[0m in \u001b[0;36m<module>\u001b[1;34m()\u001b[0m\n\u001b[0;32m      1\u001b[0m \u001b[0mT_\u001b[0m \u001b[1;33m=\u001b[0m \u001b[1;33m[\u001b[0m\u001b[1;33m[\u001b[0m\u001b[1;36m1\u001b[0m\u001b[1;33m,\u001b[0m\u001b[1;36m2\u001b[0m\u001b[1;33m]\u001b[0m\u001b[1;33m,\u001b[0m\u001b[1;33m[\u001b[0m\u001b[1;36m2\u001b[0m\u001b[1;33m,\u001b[0m\u001b[1;36m3\u001b[0m\u001b[1;33m,\u001b[0m\u001b[1;36m4\u001b[0m\u001b[1;33m]\u001b[0m\u001b[1;33m,\u001b[0m\u001b[1;33m[\u001b[0m\u001b[1;36m1\u001b[0m\u001b[1;33m,\u001b[0m\u001b[1;36m2\u001b[0m\u001b[1;33m,\u001b[0m\u001b[1;36m3\u001b[0m\u001b[1;33m]\u001b[0m\u001b[1;33m]\u001b[0m\u001b[1;33m\u001b[0m\u001b[0m\n\u001b[1;32m----> 2\u001b[1;33m \u001b[0mapriori\u001b[0m\u001b[1;33m(\u001b[0m\u001b[0mT_\u001b[0m\u001b[1;33m)\u001b[0m\u001b[1;33m\u001b[0m\u001b[0m\n\u001b[0m",
      "\u001b[1;32m<ipython-input-42-c0a5db0946a8>\u001b[0m in \u001b[0;36mapriori\u001b[1;34m(T, min_sup)\u001b[0m\n\u001b[0;32m     30\u001b[0m             \u001b[1;32mfor\u001b[0m \u001b[0mc\u001b[0m \u001b[1;32min\u001b[0m \u001b[0mcandidate_k\u001b[0m\u001b[1;33m:\u001b[0m\u001b[1;33m\u001b[0m\u001b[0m\n\u001b[0;32m     31\u001b[0m                 \u001b[1;32mprint\u001b[0m \u001b[0mset\u001b[0m\u001b[1;33m(\u001b[0m\u001b[0mc\u001b[0m\u001b[1;33m)\u001b[0m\u001b[1;33m,\u001b[0m \u001b[0mcandidate_k\u001b[0m\u001b[1;33m\u001b[0m\u001b[0m\n\u001b[1;32m---> 32\u001b[1;33m                 \u001b[1;32mif\u001b[0m \u001b[0mset\u001b[0m\u001b[1;33m(\u001b[0m\u001b[0mc\u001b[0m\u001b[1;33m)\u001b[0m\u001b[1;33m.\u001b[0m\u001b[0mintersection\u001b[0m\u001b[1;33m(\u001b[0m\u001b[0mset\u001b[0m\u001b[1;33m(\u001b[0m\u001b[0mcandidate_k\u001b[0m\u001b[1;33m)\u001b[0m\u001b[1;33m)\u001b[0m \u001b[1;33m==\u001b[0m \u001b[0mset\u001b[0m\u001b[1;33m(\u001b[0m\u001b[0mc\u001b[0m\u001b[1;33m)\u001b[0m\u001b[1;33m:\u001b[0m\u001b[1;33m\u001b[0m\u001b[0m\n\u001b[0m\u001b[0;32m     33\u001b[0m                     \u001b[1;32mprint\u001b[0m \u001b[1;34m'got it'\u001b[0m\u001b[1;33m\u001b[0m\u001b[0m\n\u001b[0;32m     34\u001b[0m         \u001b[1;32mbreak\u001b[0m\u001b[1;33m\u001b[0m\u001b[0m\n",
      "\u001b[1;31mTypeError\u001b[0m: unhashable type: 'list'"
     ]
    }
   ],
   "source": [
    "T_ = [[1,2],[2,3,4],[1,2,3]]\n",
    "apriori(T_)"
   ]
  },
  {
   "cell_type": "code",
   "execution_count": 27,
   "metadata": {
    "collapsed": false
   },
   "outputs": [
    {
     "data": {
      "text/plain": [
       "{1, 2}"
      ]
     },
     "execution_count": 27,
     "metadata": {},
     "output_type": "execute_result"
    }
   ],
   "source": [
    "set([1,2,3]).intersection(set([9,1,2,5]))"
   ]
  },
  {
   "cell_type": "markdown",
   "metadata": {},
   "source": [
    "## Using Pandas to load a larger dataset\n",
    "\n",
    "We can look in our `data/` directory and see a sample file `bank-data.csv` ... let's load that into Pandas and do some work."
   ]
  },
  {
   "cell_type": "code",
   "execution_count": 3,
   "metadata": {
    "collapsed": false
   },
   "outputs": [],
   "source": [
    "import csv\n",
    "\n",
    "with open('bank-data.csv') as fi:\n",
    "    dr_fi = csv.reader(fi)\n",
    "    \n",
    "    transactions = {}\n",
    "    for l in dr_fi:\n",
    "        transactions[l[0]] = l[1:]"
   ]
  },
  {
   "cell_type": "code",
   "execution_count": 1,
   "metadata": {
    "collapsed": false
   },
   "outputs": [],
   "source": [
    "import pandas as pd\n",
    "\n",
    "df = pd.read_csv(\"bank-data.csv\")"
   ]
  },
  {
   "cell_type": "code",
   "execution_count": 2,
   "metadata": {
    "collapsed": false
   },
   "outputs": [
    {
     "data": {
      "text/plain": [
       "13254.360229885053"
      ]
     },
     "execution_count": 2,
     "metadata": {},
     "output_type": "execute_result"
    }
   ],
   "source": [
    "df[(df.age>0) & (df.age<25)]['income'].mean()"
   ]
  },
  {
   "cell_type": "code",
   "execution_count": null,
   "metadata": {
    "collapsed": true
   },
   "outputs": [],
   "source": []
  }
 ],
 "metadata": {
  "anaconda-cloud": {},
  "kernelspec": {
   "display_name": "Python [Root]",
   "language": "python",
   "name": "Python [Root]"
  },
  "language_info": {
   "codemirror_mode": {
    "name": "ipython",
    "version": 2
   },
   "file_extension": ".py",
   "mimetype": "text/x-python",
   "name": "python",
   "nbconvert_exporter": "python",
   "pygments_lexer": "ipython2",
   "version": "2.7.12"
  }
 },
 "nbformat": 4,
 "nbformat_minor": 0
}
